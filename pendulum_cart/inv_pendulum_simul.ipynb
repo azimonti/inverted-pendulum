{
 "cells": [
  {
   "cell_type": "code",
   "execution_count": null,
   "metadata": {},
   "outputs": [],
   "source": [
    "import numpy as np\n",
    "import matplotlib.pyplot as plt\n",
    "import h5py as h5"
   ]
  },
  {
   "cell_type": "code",
   "execution_count": null,
   "metadata": {},
   "outputs": [],
   "source": [
    "# read data from file\n",
    "f = h5.File('./build/archive/up_simul.h5', 'r')"
   ]
  },
  {
   "cell_type": "code",
   "execution_count": null,
   "metadata": {},
   "outputs": [],
   "source": [
    "i = 7000;\n",
    "\n",
    "clTime = f['simulation/closeloop/time'][:]\n",
    "clX = f['simulation/closeloop/x'][:]\n",
    "clXDot = f['simulation/closeloop/xdot'][:]\n",
    "clTheta = f['simulation/closeloop/theta'][:]\n",
    "clThetaDot = f['simulation/closeloop/thetadot'][:]\n",
    "clKGain = f['simulation/closeloop/kgain'][:]\n",
    "clK = f['simulation/closeloop/k'][:]\n",
    "\n",
    "nnTime = f['simulation/' + str(i) + '/time'][:]\n",
    "nnFitness = f['simulation/' + str(i) + '/fitness'][:]\n",
    "nnX = f['simulation/' + str(i) + '/x'][:]\n",
    "nnXDot = f['simulation/' + str(i) + '/xdot'][:]\n",
    "nnTheta = f['simulation/' + str(i) + '/theta'][:]\n",
    "nnThetaDot = f['simulation/' + str(i) + '/thetadot'][:]\n",
    "nnKGain = f['simulation/' + str(i) + '/nnkgain'][:]\n",
    "nnK = f['simulation/' + str(i) + '/nnk'][:]"
   ]
  },
  {
   "cell_type": "code",
   "execution_count": null,
   "metadata": {},
   "outputs": [],
   "source": [
    "# find the time less than 100\n",
    "plot_start = 0\n",
    "plot_end = 0 \n",
    "while(nnTime[plot_end] < 15):\n",
    "    plot_end = plot_end + 1\n",
    "\n",
    "# plot the data\n",
    "plt.figure(1)\n",
    "plt.subplot(211)\n",
    "plt.plot(nnTime[plot_start:plot_end], nnX[plot_start:plot_end], 'r', label='x')\n",
    "plt.plot(nnTime[plot_start:plot_end], nnXDot[plot_start:plot_end], 'b', label='xdot')\n",
    "plt.legend(loc='upper right')\n",
    "plt.subplot(212)\n",
    "plt.plot(nnTime[plot_start:plot_end], nnTheta[plot_start:plot_end], 'r', label='theta')\n",
    "plt.plot(nnTime[plot_start:plot_end], nnThetaDot[plot_start:plot_end], 'b', label='thetadot')\n",
    "plt.legend(loc='upper right')\n",
    "plt.show()"
   ]
  },
  {
   "cell_type": "code",
   "execution_count": null,
   "metadata": {},
   "outputs": [],
   "source": [
    "plot_start = 0\n",
    "plot_end = 0 \n",
    "while(nnTime[plot_end] < 15):\n",
    "    plot_end = plot_end + 1\n",
    "plt.figure(2)\n",
    "plt.plot(nnTime[plot_start:plot_end], nnK[plot_start:plot_end,0], 'b', label='k1')\n",
    "plt.plot(nnTime[plot_start:plot_end], nnK[plot_start:plot_end,1], 'r', label='k2')\n",
    "plt.plot(nnTime[plot_start:plot_end], nnK[plot_start:plot_end,2], 'k', label='k3')\n",
    "plt.plot(nnTime[plot_start:plot_end], nnK[plot_start:plot_end,3], 'g', label='k4')\n",
    "plt.legend(loc='upper right');"
   ]
  },
  {
   "cell_type": "code",
   "execution_count": null,
   "metadata": {},
   "outputs": [],
   "source": [
    "f.close()"
   ]
  }
 ],
 "metadata": {
  "kernelspec": {
   "display_name": "research",
   "language": "python",
   "name": "python3"
  },
  "language_info": {
   "codemirror_mode": {
    "name": "ipython",
    "version": 3
   },
   "file_extension": ".py",
   "mimetype": "text/x-python",
   "name": "python",
   "nbconvert_exporter": "python",
   "pygments_lexer": "ipython3",
   "version": "3.10.11"
  },
  "orig_nbformat": 4
 },
 "nbformat": 4,
 "nbformat_minor": 2
}
